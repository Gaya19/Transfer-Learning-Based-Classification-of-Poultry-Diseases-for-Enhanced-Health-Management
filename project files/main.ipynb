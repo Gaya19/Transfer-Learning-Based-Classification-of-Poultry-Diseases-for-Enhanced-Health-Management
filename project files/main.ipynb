{
 "cells": [
  {
   "cell_type": "code",
   "execution_count": null,
   "id": "c722e510",
   "metadata": {
    "vscode": {
     "languageId": "plaintext"
    }
   },
   "outputs": [],
   "source": [
    "import numpy as np\n",
    "import matplotlib.pyplot as plt\n",
    "from tensorflow.keras.models import load_model\n",
    "from tensorflow.keras.preprocessing import image\n",
    "\n",
    "model = load_model(\"model.h5\")\n",
    "\n",
    "# Classes in order used during training\n",
    "class_names = ['Coccidiosis', 'Healthy', 'New Castle Disease', 'Salmonella']\n",
    "\n",
    "# Upload and predict image\n",
    "img_path = \"static/images/sick-chicken.jpg\"\n",
    "img = image.load_img(img_path, target_size=(224, 224))\n",
    "img_array = image.img_to_array(img) / 255.0\n",
    "img_array = np.expand_dims(img_array, axis=0)\n",
    "\n",
    "prediction = model.predict(img_array)\n",
    "predicted_class = class_names[np.argmax(prediction)]\n",
    "\n",
    "plt.imshow(img)\n",
    "plt.title(f\"Prediction: {predicted_class}\")\n",
    "plt.axis('off')\n",
    "plt.show()"
   ]
  }
 ],
 "metadata": {
  "language_info": {
   "name": "python"
  }
 },
 "nbformat": 4,
 "nbformat_minor": 5
}
